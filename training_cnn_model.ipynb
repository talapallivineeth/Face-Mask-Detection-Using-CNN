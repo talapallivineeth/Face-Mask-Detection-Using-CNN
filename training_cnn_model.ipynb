{
  "nbformat": 4,
  "nbformat_minor": 0,
  "metadata": {
    "colab": {
      "name": "Copy of Image_classification_cnn_model.ipynb",
      "provenance": [],
      "collapsed_sections": []
    },
    "kernelspec": {
      "name": "python3",
      "display_name": "Python 3"
    },
    "accelerator": "GPU"
  },
  "cells": [
    {
      "cell_type": "markdown",
      "metadata": {
        "id": "NFdAMuRADndf",
        "colab_type": "text"
      },
      "source": [
        "Importing Modulus"
      ]
    },
    {
      "cell_type": "code",
      "metadata": {
        "id": "MwhfC6MIfQ1Y",
        "colab_type": "code",
        "colab": {}
      },
      "source": [
        "from tensorflow.keras.preprocessing.image import ImageDataGenerator\n",
        "from tensorflow.keras.applications import NASNetLarge\n",
        "from tensorflow.keras.layers import AveragePooling2D\n",
        "from tensorflow.keras.layers import Dropout\n",
        "from tensorflow.keras.layers import Flatten\n",
        "from tensorflow.keras.layers import Dense\n",
        "from tensorflow.keras.layers import Input\n",
        "from tensorflow.keras.models import Model,model_from_json\n",
        "from tensorflow.keras.optimizers import Adam\n",
        "from tensorflow.keras.applications.mobilenet_v2 import preprocess_input\n",
        "from tensorflow.keras.preprocessing.image import img_to_array\n",
        "from tensorflow.keras.preprocessing.image import load_img\n",
        "from tensorflow.keras.utils import to_categorical\n",
        "from sklearn.preprocessing import LabelBinarizer\n",
        "from sklearn.model_selection import train_test_split\n",
        "from sklearn.metrics import classification_report\n",
        "from imutils import paths\n",
        "import matplotlib.pyplot as plt\n",
        "import numpy as np\n",
        "import os\n",
        "import cv2"
      ],
      "execution_count": 0,
      "outputs": []
    },
    {
      "cell_type": "markdown",
      "metadata": {
        "id": "HBIsZaI6mqgQ",
        "colab_type": "text"
      },
      "source": [
        "Loading the preprocessed data"
      ]
    },
    {
      "cell_type": "code",
      "metadata": {
        "id": "rKxLg50m58O8",
        "colab_type": "code",
        "colab": {
          "base_uri": "https://localhost:8080/",
          "height": 34
        },
        "outputId": "354feceb-3825-456e-ab69-e70cac16af08"
      },
      "source": [
        "import numpy as np\n",
        "from keras.utils import np_utils\n",
        "X=np.load('drive/My Drive/data1.npy')\n",
        "tar=np.load('drive/My Drive/target1.npy')\n",
        "y=np_utils.to_categorical(tar)"
      ],
      "execution_count": 2,
      "outputs": [
        {
          "output_type": "stream",
          "text": [
            "Using TensorFlow backend.\n"
          ],
          "name": "stderr"
        }
      ]
    },
    {
      "cell_type": "markdown",
      "metadata": {
        "id": "WILDxExmmzEP",
        "colab_type": "text"
      },
      "source": [
        "Data Augmentation"
      ]
    },
    {
      "cell_type": "code",
      "metadata": {
        "id": "Kv3iR6i47T7i",
        "colab_type": "code",
        "colab": {}
      },
      "source": [
        "#splitting the dataset\n",
        "(trainX, testX, trainY, testY) = train_test_split(X,y,\n",
        "\ttest_size=0.20, stratify=y, random_state=42)\n",
        "\n",
        "# construct the training image generator for data augmentation\n",
        "aug = ImageDataGenerator(\n",
        "\trotation_range=20,\n",
        "\tzoom_range=0.15,\n",
        "\twidth_shift_range=0.2,\n",
        "\theight_shift_range=0.2,\n",
        "\tshear_range=0.15,\n",
        "\thorizontal_flip=True,\n",
        "\tfill_mode=\"nearest\")"
      ],
      "execution_count": 0,
      "outputs": []
    },
    {
      "cell_type": "markdown",
      "metadata": {
        "id": "RlJhfHIMm6A_",
        "colab_type": "text"
      },
      "source": [
        "Training the Model"
      ]
    },
    {
      "cell_type": "code",
      "metadata": {
        "id": "0ixeQtkt8Gpj",
        "colab_type": "code",
        "outputId": "42935fc2-7a7b-47a6-a49e-eb884cfd5658",
        "colab": {
          "base_uri": "https://localhost:8080/",
          "height": 68
        }
      },
      "source": [
        "INIT_LR = 1e-4 #initial learning rate\n",
        "EPOCHS = 20 #number of epochs\n",
        "BS = 32 #batch_size\n",
        "baseModel = NASNetLarge(weights=\"imagenet\", include_top=False,\n",
        "\tinput_tensor=Input(shape=(224,224,3)))\n",
        "\n",
        "# construct the head of the model that will be placed on top of the\n",
        "# the base model\n",
        "headModel = baseModel.output\n",
        "headModel = AveragePooling2D(pool_size=(7, 7))(headModel)\n",
        "headModel = Flatten(name=\"flatten\")(headModel)\n",
        "headModel = Dense(128, activation=\"relu\")(headModel)\n",
        "headModel = Dropout(0.5)(headModel)\n",
        "headModel = Dense(2, activation=\"softmax\")(headModel)\n",
        "\n",
        "# place the head FC model on top of the base model (this will become\n",
        "# the actual model we will train)\n",
        "model = Model(inputs=baseModel.input, outputs=headModel)\n",
        "\n",
        "# loop over all layers in the base model and freeze them so they will\n",
        "# *not* be updated during the first training process\n",
        "for layer in baseModel.layers:\n",
        "\tlayer.trainable = False\n",
        "\n",
        "# compile our model\n",
        "print(\"[INFO] compiling model...\")\n",
        "opt = Adam(lr=INIT_LR, decay=INIT_LR / EPOCHS)\n",
        "model.compile(loss=\"binary_crossentropy\", optimizer=opt,\n",
        "\tmetrics=[\"accuracy\"])"
      ],
      "execution_count": 4,
      "outputs": [
        {
          "output_type": "stream",
          "text": [
            "Downloading data from https://storage.googleapis.com/tensorflow/keras-applications/nasnet/NASNet-large-no-top.h5\n",
            "343613440/343610240 [==============================] - 3s 0us/step\n",
            "[INFO] compiling model...\n"
          ],
          "name": "stdout"
        }
      ]
    },
    {
      "cell_type": "code",
      "metadata": {
        "id": "m74r9P4p8bxb",
        "colab_type": "code",
        "outputId": "6ecde434-98a3-4f37-9dff-207e5484d815",
        "colab": {
          "base_uri": "https://localhost:8080/",
          "height": 734
        }
      },
      "source": [
        "print(\"[INFO] training head...\")\n",
        "H = model.fit(\n",
        "\taug.flow(trainX, trainY, batch_size=BS),\n",
        "\tsteps_per_epoch=len(trainX) // BS,\n",
        "\tvalidation_data=(testX, testY),\n",
        "\tvalidation_steps=len(testX) // BS,\n",
        "\tepochs=EPOCHS)"
      ],
      "execution_count": 5,
      "outputs": [
        {
          "output_type": "stream",
          "text": [
            "[INFO] training head...\n",
            "Epoch 1/20\n",
            "23/23 [==============================] - 18s 783ms/step - loss: 0.4383 - accuracy: 0.7792 - val_loss: 0.2319 - val_accuracy: 0.9255\n",
            "Epoch 2/20\n",
            "23/23 [==============================] - 11s 480ms/step - loss: 0.2711 - accuracy: 0.8958 - val_loss: 0.1794 - val_accuracy: 0.9415\n",
            "Epoch 3/20\n",
            "23/23 [==============================] - 11s 489ms/step - loss: 0.1789 - accuracy: 0.9375 - val_loss: 0.1525 - val_accuracy: 0.9521\n",
            "Epoch 4/20\n",
            "23/23 [==============================] - 11s 479ms/step - loss: 0.1846 - accuracy: 0.9181 - val_loss: 0.1396 - val_accuracy: 0.9574\n",
            "Epoch 5/20\n",
            "23/23 [==============================] - 11s 482ms/step - loss: 0.1469 - accuracy: 0.9444 - val_loss: 0.1319 - val_accuracy: 0.9574\n",
            "Epoch 6/20\n",
            "23/23 [==============================] - 11s 480ms/step - loss: 0.1569 - accuracy: 0.9458 - val_loss: 0.1244 - val_accuracy: 0.9628\n",
            "Epoch 7/20\n",
            "23/23 [==============================] - 11s 482ms/step - loss: 0.1636 - accuracy: 0.9306 - val_loss: 0.1229 - val_accuracy: 0.9628\n",
            "Epoch 8/20\n",
            "23/23 [==============================] - 11s 478ms/step - loss: 0.1273 - accuracy: 0.9500 - val_loss: 0.1131 - val_accuracy: 0.9628\n",
            "Epoch 9/20\n",
            "23/23 [==============================] - 11s 479ms/step - loss: 0.1187 - accuracy: 0.9653 - val_loss: 0.1101 - val_accuracy: 0.9681\n",
            "Epoch 10/20\n",
            "23/23 [==============================] - 11s 481ms/step - loss: 0.1266 - accuracy: 0.9556 - val_loss: 0.1093 - val_accuracy: 0.9734\n",
            "Epoch 11/20\n",
            "23/23 [==============================] - 11s 479ms/step - loss: 0.1213 - accuracy: 0.9583 - val_loss: 0.1113 - val_accuracy: 0.9734\n",
            "Epoch 12/20\n",
            "23/23 [==============================] - 11s 484ms/step - loss: 0.1124 - accuracy: 0.9597 - val_loss: 0.1095 - val_accuracy: 0.9681\n",
            "Epoch 13/20\n",
            "23/23 [==============================] - 11s 480ms/step - loss: 0.0882 - accuracy: 0.9694 - val_loss: 0.1234 - val_accuracy: 0.9574\n",
            "Epoch 14/20\n",
            "23/23 [==============================] - 11s 493ms/step - loss: 0.0975 - accuracy: 0.9667 - val_loss: 0.1117 - val_accuracy: 0.9734\n",
            "Epoch 15/20\n",
            "23/23 [==============================] - 11s 481ms/step - loss: 0.0972 - accuracy: 0.9639 - val_loss: 0.1097 - val_accuracy: 0.9681\n",
            "Epoch 16/20\n",
            "23/23 [==============================] - 11s 480ms/step - loss: 0.0780 - accuracy: 0.9736 - val_loss: 0.1115 - val_accuracy: 0.9734\n",
            "Epoch 17/20\n",
            "23/23 [==============================] - 11s 480ms/step - loss: 0.0916 - accuracy: 0.9639 - val_loss: 0.1097 - val_accuracy: 0.9681\n",
            "Epoch 18/20\n",
            "23/23 [==============================] - 11s 480ms/step - loss: 0.0837 - accuracy: 0.9750 - val_loss: 0.1121 - val_accuracy: 0.9734\n",
            "Epoch 19/20\n",
            "23/23 [==============================] - 11s 481ms/step - loss: 0.0959 - accuracy: 0.9694 - val_loss: 0.1068 - val_accuracy: 0.9681\n",
            "Epoch 20/20\n",
            "23/23 [==============================] - 11s 481ms/step - loss: 0.0752 - accuracy: 0.9681 - val_loss: 0.1048 - val_accuracy: 0.9681\n"
          ],
          "name": "stdout"
        }
      ]
    },
    {
      "cell_type": "markdown",
      "metadata": {
        "id": "B80WGJCUnD-N",
        "colab_type": "text"
      },
      "source": [
        "Saving the model and obtaining classification Report"
      ]
    },
    {
      "cell_type": "code",
      "metadata": {
        "id": "m3J7Rj_xJd_d",
        "colab_type": "code",
        "outputId": "040ccc4e-ccae-43d4-f24a-798e50f20ef9",
        "colab": {
          "base_uri": "https://localhost:8080/",
          "height": 187
        }
      },
      "source": [
        "model_json = model.to_json()\n",
        "with open(\"model.json\", \"w\") as json_file:\n",
        "    json_file.write(model_json)\n",
        "# serialize weights to HDF5\n",
        "model.save_weights(\"model.h5\")\n",
        "print(\"[INFO] evaluating network...\")\n",
        "predIdxs = model.predict(testX, batch_size=BS)\n",
        "\n",
        "# for each image in the testing set we need to find the index of the\n",
        "# label with corresponding largest predicted probability\n",
        "predIdxs = np.argmax(predIdxs, axis=1)\n",
        "\n",
        "# show a nicely formatted classification report\n",
        "print(classification_report(testY.argmax(axis=1), predIdxs))"
      ],
      "execution_count": 6,
      "outputs": [
        {
          "output_type": "stream",
          "text": [
            "[INFO] evaluating network...\n",
            "              precision    recall  f1-score   support\n",
            "\n",
            "           0       0.97      0.97      0.97        99\n",
            "           1       0.97      0.97      0.97        89\n",
            "\n",
            "    accuracy                           0.97       188\n",
            "   macro avg       0.97      0.97      0.97       188\n",
            "weighted avg       0.97      0.97      0.97       188\n",
            "\n"
          ],
          "name": "stdout"
        }
      ]
    },
    {
      "cell_type": "code",
      "metadata": {
        "id": "XgShhgSCotJP",
        "colab_type": "code",
        "colab": {}
      },
      "source": [
        ""
      ],
      "execution_count": 0,
      "outputs": []
    }
  ]
}