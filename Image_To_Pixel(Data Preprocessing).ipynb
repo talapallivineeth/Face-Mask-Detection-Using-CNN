{
 "cells": [
  {
   "cell_type": "markdown",
   "metadata": {},
   "source": [
    "Converting Images To Pixels (Data Preprocessing)"
   ]
  },
  {
   "cell_type": "code",
   "execution_count": 1,
   "metadata": {},
   "outputs": [],
   "source": [
    "import os\n",
    "import cv2\n",
    "import numpy as np\n",
    "from tensorflow.keras.applications.mobilenet_v2 import preprocess_input\n",
    "def img2data(filepath,img_size):\n",
    "    os.chdir(filepath)  #changing to current directory\n",
    "    label_dict={}\n",
    "    labels=os.listdir()  #extracting the sub-folders from main folder\n",
    "    data=[]\n",
    "    target=[]\n",
    "    for i in range(len(labels)):\n",
    "        label_dict[labels[i]]=i\n",
    "    for label in labels:\n",
    "        img_names=os.listdir(os.path.join(filepath,label))  #Extracting images from the sub-folder\n",
    "        for img_name in img_names:\n",
    "            img=cv2.imread(os.path.join(filepath,label,img_name)) #Reading the image in pixel format\n",
    "            new_img=cv2.resize(img,(img_size,img_size))#Resizing image to required size\n",
    "            new_img=preprocess_input(new_img) #preprocessing the images\n",
    "            data.append(new_img) #Appending the resized image to data list\n",
    "            target.append(label_dict[label])  #Appending the appropriate folder value in which the image present\n",
    "    data=np.array(data)#Normalizing the image pixels to be in range of [0,1]\n",
    "    target=np.array(target) #specifing target label values\n",
    "    np.save('data1',data)\n",
    "    np.save('target1',target)\n",
    "img2data(\"C:/Users/vinu/Desktop/Dataset 01\",224)#Function call with parameters as ('filepath','required_image_size')"
   ]
  }
 ],
 "metadata": {
  "kernelspec": {
   "display_name": "Python 3",
   "language": "python",
   "name": "python3"
  },
  "language_info": {
   "codemirror_mode": {
    "name": "ipython",
    "version": 3
   },
   "file_extension": ".py",
   "mimetype": "text/x-python",
   "name": "python",
   "nbconvert_exporter": "python",
   "pygments_lexer": "ipython3",
   "version": "3.7.7"
  }
 },
 "nbformat": 4,
 "nbformat_minor": 4
}
